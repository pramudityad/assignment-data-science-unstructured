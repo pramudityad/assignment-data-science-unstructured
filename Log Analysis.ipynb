{
 "cells": [
  {
   "cell_type": "code",
   "execution_count": 10,
   "id": "0b977473",
   "metadata": {},
   "outputs": [
    {
     "name": "stdout",
     "output_type": "stream",
     "text": [
      "/home/damar.pramuditya/School/Data Science/unstructure_assignment/input/archive/client_hostname.csv\n",
      "/home/damar.pramuditya/School/Data Science/unstructure_assignment/input/archive/access.log\n"
     ]
    }
   ],
   "source": [
    "import pandas as pd\n",
    "pd.options.display.max_columns = None\n",
    "import re\n",
    "import os\n",
    "import time\n",
    "from tqdm import tqdm\n",
    "\n",
    "for dirname, _, filenames in os.walk('/home/damar.pramuditya/School/Data Science/unstructure_assignment/input/archive'):\n",
    "    for filename in filenames:\n",
    "        print(os.path.join(dirname, filename))"
   ]
  },
  {
   "cell_type": "code",
   "execution_count": 7,
   "id": "2fa1eb5e",
   "metadata": {},
   "outputs": [
    {
     "name": "stdout",
     "output_type": "stream",
     "text": [
      "3,3G -rw-rw-r-- 1 damar.pramuditya damar.pramuditya 3,3G Feb 13  2021 input/archive/access.log\r\n"
     ]
    }
   ],
   "source": [
    "!ls -lsSh 'input/archive/access.log'"
   ]
  },
  {
   "cell_type": "code",
   "execution_count": 9,
   "id": "e7bb240c",
   "metadata": {},
   "outputs": [
    {
     "name": "stdout",
     "output_type": "stream",
     "text": [
      "54.36.149.41 - - [22/Jan/2019:03:56:14 +0330] \"GET /filter/27|13%20%D9%85%DA%AF%D8%A7%D9%BE%DB%8C%DA%A9%D8%B3%D9%84,27|%DA%A9%D9%85%D8%AA%D8%B1%20%D8%A7%D8%B2%205%20%D9%85%DA%AF%D8%A7%D9%BE%DB%8C%DA%A9%D8%B3%D9%84,p53 HTTP/1.1\" 200 30577 \"-\" \"Mozilla/5.0 (compatible; AhrefsBot/6.1; +http://ahrefs.com/robot/)\" \"-\"\r\n",
      "31.56.96.51 - - [22/Jan/2019:03:56:16 +0330] \"GET /image/60844/productModel/200x200 HTTP/1.1\" 200 5667 \"https://www.zanbil.ir/m/filter/b113\" \"Mozilla/5.0 (Linux; Android 6.0; ALE-L21 Build/HuaweiALE-L21) AppleWebKit/537.36 (KHTML, like Gecko) Chrome/66.0.3359.158 Mobile Safari/537.36\" \"-\"\r\n",
      "31.56.96.51 - - [22/Jan/2019:03:56:16 +0330] \"GET /image/61474/productModel/200x200 HTTP/1.1\" 200 5379 \"https://www.zanbil.ir/m/filter/b113\" \"Mozilla/5.0 (Linux; Android 6.0; ALE-L21 Build/HuaweiALE-L21) AppleWebKit/537.36 (KHTML, like Gecko) Chrome/66.0.3359.158 Mobile Safari/537.36\" \"-\"\r\n",
      "40.77.167.129 - - [22/Jan/2019:03:56:17 +0330] \"GET /image/14925/productModel/100x100 HTTP/1.1\" 200 1696 \"-\" \"Mozilla/5.0 (compatible; bingbot/2.0; +http://www.bing.com/bingbot.htm)\" \"-\"\r\n"
     ]
    }
   ],
   "source": [
    "!head -n 4 'input/archive/access.log'"
   ]
  },
  {
   "cell_type": "code",
   "execution_count": 11,
   "id": "82dd0a81",
   "metadata": {},
   "outputs": [],
   "source": [
    "combined_regex = '^(?P<client>\\S+) \\S+ (?P<userid>\\S+) \\[(?P<datetime>[^\\]]+)\\] \"(?P<method>[A-Z]+) (?P<request>[^ \"]+)? HTTP/[0-9.]+\" (?P<status>[0-9]{3}) (?P<size>[0-9]+|-) \"(?P<referrer>[^\"]*)\" \"(?P<useragent>[^\"]*)'\n",
    "columns = ['client', 'userid', 'datetime', 'method', 'request', 'status', 'size', 'referer', 'user_agent']"
   ]
  },
  {
   "cell_type": "code",
   "execution_count": 12,
   "id": "8e41db66",
   "metadata": {},
   "outputs": [],
   "source": [
    "import time\n",
    "import re\n",
    "import pandas as pd\n",
    "\n",
    "def logs_to_df(logfile, output_dir, errors_file):\n",
    "    with open(logfile) as source_file:\n",
    "        linenumber = 0\n",
    "        parsed_lines = []\n",
    "        for line in tqdm(source_file):\n",
    "            try:\n",
    "                log_line = re.findall(combined_regex, line)[0]\n",
    "                parsed_lines.append(log_line)\n",
    "            except Exception as e:\n",
    "                with open(errors_file, 'at') as errfile:\n",
    "                    print((line, str(e)), file=errfile)\n",
    "                continue\n",
    "            linenumber += 1\n",
    "            if linenumber % 250_000 == 0:\n",
    "                df = pd.DataFrame(parsed_lines, columns=columns)\n",
    "                df.to_parquet(f'{output_dir}/file_{linenumber}.parquet')\n",
    "                parsed_lines.clear()\n",
    "        else:\n",
    "            df = pd.DataFrame(parsed_lines, columns=columns)\n",
    "            df.to_parquet(f'{output_dir}/file_{linenumber}.parquet')\n",
    "            parsed_lines.clear()"
   ]
  },
  {
   "cell_type": "code",
   "execution_count": 14,
   "id": "62fd51f2",
   "metadata": {},
   "outputs": [],
   "source": [
    "%%capture\n",
    "!pip install advertools"
   ]
  },
  {
   "cell_type": "code",
   "execution_count": 15,
   "id": "c9f1648b",
   "metadata": {},
   "outputs": [
    {
     "name": "stderr",
     "output_type": "stream",
     "text": [
      "10365152it [00:52, 199296.97it/s]\n"
     ]
    },
    {
     "name": "stdout",
     "output_type": "stream",
     "text": [
      "CPU times: user 48.2 s, sys: 4.47 s, total: 52.7 s\n",
      "Wall time: 52.3 s\n"
     ]
    }
   ],
   "source": [
    "%time logs_to_df(logfile='input/archive/access.log', output_dir='output/', errors_file='errors.txt')"
   ]
  },
  {
   "cell_type": "code",
   "execution_count": 18,
   "id": "bfd0d306",
   "metadata": {},
   "outputs": [
    {
     "name": "stdout",
     "output_type": "stream",
     "text": [
      "   292   7151 229770 errors.txt\r\n"
     ]
    }
   ],
   "source": [
    "# check errors\n",
    "!wc errors.txt"
   ]
  },
  {
   "cell_type": "code",
   "execution_count": 19,
   "id": "2d1df74f",
   "metadata": {},
   "outputs": [
    {
     "name": "stdout",
     "output_type": "stream",
     "text": [
      "CPU times: user 7.7 s, sys: 2.14 s, total: 9.84 s\n",
      "Wall time: 4.92 s\n"
     ]
    }
   ],
   "source": [
    "%time logs_df = pd.read_parquet('output/')"
   ]
  },
  {
   "cell_type": "code",
   "execution_count": 20,
   "id": "023e4978",
   "metadata": {},
   "outputs": [
    {
     "name": "stdout",
     "output_type": "stream",
     "text": [
      "257M\toutput/\r\n"
     ]
    }
   ],
   "source": [
    "!du -sh output/"
   ]
  },
  {
   "cell_type": "code",
   "execution_count": 23,
   "id": "aef2b9f7",
   "metadata": {},
   "outputs": [
    {
     "name": "stdout",
     "output_type": "stream",
     "text": [
      "0.07787878787878788\n"
     ]
    }
   ],
   "source": [
    "val = 257/3300\n",
    "print(val)"
   ]
  },
  {
   "cell_type": "code",
   "execution_count": 24,
   "id": "4deef640",
   "metadata": {},
   "outputs": [
    {
     "name": "stdout",
     "output_type": "stream",
     "text": [
      "<class 'pandas.core.frame.DataFrame'>\n",
      "RangeIndex: 10364865 entries, 0 to 10364864\n",
      "Data columns (total 9 columns):\n",
      " #   Column      Non-Null Count     Dtype \n",
      "---  ------      --------------     ----- \n",
      " 0   client      10364865 non-null  object\n",
      " 1   userid      10364865 non-null  object\n",
      " 2   datetime    10364865 non-null  object\n",
      " 3   method      10364865 non-null  object\n",
      " 4   request     10364865 non-null  object\n",
      " 5   status      10364865 non-null  object\n",
      " 6   size        10364865 non-null  object\n",
      " 7   referer     10364865 non-null  object\n",
      " 8   user_agent  10364865 non-null  object\n",
      "dtypes: object(9)\n",
      "memory usage: 711.7+ MB\n"
     ]
    }
   ],
   "source": [
    "logs_df.info(show_counts=True, verbose=True)"
   ]
  },
  {
   "cell_type": "code",
   "execution_count": 25,
   "id": "ffa6eb3b",
   "metadata": {},
   "outputs": [],
   "source": [
    "# 711 MB. We now remove the files in parquet_dir and optimize the datatypes and use more efficient ones.\n",
    "%rm -r output/"
   ]
  },
  {
   "cell_type": "code",
   "execution_count": 26,
   "id": "aa8e0498",
   "metadata": {},
   "outputs": [],
   "source": [
    "logs_df['client'] = logs_df['client'].astype('category')\n",
    "del logs_df['userid']\n",
    "logs_df['datetime'] = pd.to_datetime(logs_df['datetime'], format='%d/%b/%Y:%H:%M:%S %z')\n",
    "logs_df['method'] = logs_df['method'].astype('category')\n",
    "logs_df['status'] = logs_df['status'].astype('int16')\n",
    "logs_df['size'] = logs_df['size'].astype('int32')\n",
    "logs_df['referer'] = logs_df['referer'].astype('category')\n",
    "logs_df['user_agent'] = logs_df['user_agent'].astype('category')"
   ]
  },
  {
   "cell_type": "code",
   "execution_count": 27,
   "id": "e96eb615",
   "metadata": {},
   "outputs": [
    {
     "name": "stdout",
     "output_type": "stream",
     "text": [
      "<class 'pandas.core.frame.DataFrame'>\n",
      "RangeIndex: 10364865 entries, 0 to 10364864\n",
      "Data columns (total 8 columns):\n",
      " #   Column      Non-Null Count     Dtype                                \n",
      "---  ------      --------------     -----                                \n",
      " 0   client      10364865 non-null  category                             \n",
      " 1   datetime    10364865 non-null  datetime64[ns, pytz.FixedOffset(210)]\n",
      " 2   method      10364865 non-null  category                             \n",
      " 3   request     10364865 non-null  object                               \n",
      " 4   status      10364865 non-null  int16                                \n",
      " 5   size        10364865 non-null  int32                                \n",
      " 6   referer     10364865 non-null  category                             \n",
      " 7   user_agent  10364865 non-null  category                             \n",
      "dtypes: category(4), datetime64[ns, pytz.FixedOffset(210)](1), int16(1), int32(1), object(1)\n",
      "memory usage: 342.3+ MB\n"
     ]
    }
   ],
   "source": [
    "logs_df.info(verbose=True, show_counts=True)"
   ]
  },
  {
   "cell_type": "code",
   "execution_count": 28,
   "id": "7094c0a5",
   "metadata": {},
   "outputs": [],
   "source": [
    "# The file was reduced further from 711 to 342 MB. (342 ÷ 711 = 0.48 of the original size)\n",
    "\n",
    "# We now save it to a single file, and read again."
   ]
  },
  {
   "cell_type": "code",
   "execution_count": 29,
   "id": "0016cb82",
   "metadata": {},
   "outputs": [
    {
     "name": "stdout",
     "output_type": "stream",
     "text": [
      "CPU times: user 3.78 s, sys: 1.01 s, total: 4.79 s\n",
      "Wall time: 4.44 s\n"
     ]
    }
   ],
   "source": [
    "%time logs_df.to_parquet('logs_df.parquet')"
   ]
  },
  {
   "cell_type": "code",
   "execution_count": 30,
   "id": "cebab51e",
   "metadata": {},
   "outputs": [
    {
     "name": "stdout",
     "output_type": "stream",
     "text": [
      "CPU times: user 3.43 s, sys: 1.66 s, total: 5.09 s\n",
      "Wall time: 3.56 s\n"
     ]
    }
   ],
   "source": [
    "%time logs_df = pd.read_parquet('logs_df.parquet')"
   ]
  },
  {
   "cell_type": "code",
   "execution_count": 31,
   "id": "c2a807bd",
   "metadata": {},
   "outputs": [
    {
     "data": {
      "text/plain": [
       "(10364865, 8)"
      ]
     },
     "execution_count": 31,
     "metadata": {},
     "output_type": "execute_result"
    }
   ],
   "source": [
    "logs_df.shape"
   ]
  },
  {
   "cell_type": "code",
   "execution_count": 32,
   "id": "d5c1bd86",
   "metadata": {},
   "outputs": [
    {
     "data": {
      "text/html": [
       "<div>\n",
       "<style scoped>\n",
       "    .dataframe tbody tr th:only-of-type {\n",
       "        vertical-align: middle;\n",
       "    }\n",
       "\n",
       "    .dataframe tbody tr th {\n",
       "        vertical-align: top;\n",
       "    }\n",
       "\n",
       "    .dataframe thead th {\n",
       "        text-align: right;\n",
       "    }\n",
       "</style>\n",
       "<table border=\"1\" class=\"dataframe\">\n",
       "  <thead>\n",
       "    <tr style=\"text-align: right;\">\n",
       "      <th></th>\n",
       "      <th>client</th>\n",
       "      <th>datetime</th>\n",
       "      <th>method</th>\n",
       "      <th>request</th>\n",
       "      <th>status</th>\n",
       "      <th>size</th>\n",
       "      <th>referer</th>\n",
       "      <th>user_agent</th>\n",
       "    </tr>\n",
       "  </thead>\n",
       "  <tbody>\n",
       "    <tr>\n",
       "      <th>0</th>\n",
       "      <td>37.152.163.59</td>\n",
       "      <td>2019-01-22 12:38:27+03:30</td>\n",
       "      <td>GET</td>\n",
       "      <td>/image/29314?name=%D8%AF%DB%8C%D8%A8%D8%A7-7.j...</td>\n",
       "      <td>200</td>\n",
       "      <td>1105</td>\n",
       "      <td>https://www.zanbil.ir/product/29314/%DA%A9%D8%...</td>\n",
       "      <td>Mozilla/5.0 (Windows NT 6.1; WOW64; Trident/7....</td>\n",
       "    </tr>\n",
       "    <tr>\n",
       "      <th>1</th>\n",
       "      <td>37.152.163.59</td>\n",
       "      <td>2019-01-22 12:38:27+03:30</td>\n",
       "      <td>GET</td>\n",
       "      <td>/static/images/zanbil-kharid.png</td>\n",
       "      <td>200</td>\n",
       "      <td>358</td>\n",
       "      <td>https://www.zanbil.ir/product/29314/%DA%A9%D8%...</td>\n",
       "      <td>Mozilla/5.0 (Windows NT 6.1; WOW64; Trident/7....</td>\n",
       "    </tr>\n",
       "    <tr>\n",
       "      <th>2</th>\n",
       "      <td>85.9.73.119</td>\n",
       "      <td>2019-01-22 12:38:27+03:30</td>\n",
       "      <td>GET</td>\n",
       "      <td>/static/images/next.png</td>\n",
       "      <td>200</td>\n",
       "      <td>3045</td>\n",
       "      <td>https://znbl.ir/static/bundle-bundle_site_head...</td>\n",
       "      <td>Mozilla/5.0 (Windows NT 6.1; Win64; x64) Apple...</td>\n",
       "    </tr>\n",
       "    <tr>\n",
       "      <th>3</th>\n",
       "      <td>37.152.163.59</td>\n",
       "      <td>2019-01-22 12:38:27+03:30</td>\n",
       "      <td>GET</td>\n",
       "      <td>/image/29314?name=%D8%AF%DB%8C%D8%A8%D8%A7-4.j...</td>\n",
       "      <td>200</td>\n",
       "      <td>1457</td>\n",
       "      <td>https://www.zanbil.ir/product/29314/%DA%A9%D8%...</td>\n",
       "      <td>Mozilla/5.0 (Windows NT 6.1; WOW64; Trident/7....</td>\n",
       "    </tr>\n",
       "    <tr>\n",
       "      <th>4</th>\n",
       "      <td>85.9.73.119</td>\n",
       "      <td>2019-01-22 12:38:27+03:30</td>\n",
       "      <td>GET</td>\n",
       "      <td>/static/images/checked.png</td>\n",
       "      <td>200</td>\n",
       "      <td>1083</td>\n",
       "      <td>https://znbl.ir/static/bundle-bundle_site_head...</td>\n",
       "      <td>Mozilla/5.0 (Windows NT 6.1; Win64; x64) Apple...</td>\n",
       "    </tr>\n",
       "    <tr>\n",
       "      <th>...</th>\n",
       "      <td>...</td>\n",
       "      <td>...</td>\n",
       "      <td>...</td>\n",
       "      <td>...</td>\n",
       "      <td>...</td>\n",
       "      <td>...</td>\n",
       "      <td>...</td>\n",
       "      <td>...</td>\n",
       "    </tr>\n",
       "    <tr>\n",
       "      <th>10364860</th>\n",
       "      <td>86.104.110.254</td>\n",
       "      <td>2019-01-26 16:01:31+03:30</td>\n",
       "      <td>GET</td>\n",
       "      <td>/settings/logo</td>\n",
       "      <td>200</td>\n",
       "      <td>4120</td>\n",
       "      <td>https://www.zanbil.ir/m/browse/tv/%D8%AA%D9%84...</td>\n",
       "      <td>Mozilla/5.0 (iPhone; CPU iPhone OS 12_1 like M...</td>\n",
       "    </tr>\n",
       "    <tr>\n",
       "      <th>10364861</th>\n",
       "      <td>5.125.254.169</td>\n",
       "      <td>2019-01-26 16:01:31+03:30</td>\n",
       "      <td>GET</td>\n",
       "      <td>/image/5/brand</td>\n",
       "      <td>200</td>\n",
       "      <td>2171</td>\n",
       "      <td>https://www.zanbil.ir/m/filter/p62%2Cstexists</td>\n",
       "      <td>Mozilla/5.0 (iPhone; CPU iPhone OS 12_1_2 like...</td>\n",
       "    </tr>\n",
       "    <tr>\n",
       "      <th>10364862</th>\n",
       "      <td>65.49.68.192</td>\n",
       "      <td>2019-01-26 16:01:31+03:30</td>\n",
       "      <td>GET</td>\n",
       "      <td>/image/64646/productModel/150x150</td>\n",
       "      <td>200</td>\n",
       "      <td>5318</td>\n",
       "      <td>https://www.zanbil.ir/browse/audio-and-video-e...</td>\n",
       "      <td>Mozilla/5.0 (Windows NT 10.0; Win64; x64; rv:6...</td>\n",
       "    </tr>\n",
       "    <tr>\n",
       "      <th>10364863</th>\n",
       "      <td>5.125.254.169</td>\n",
       "      <td>2019-01-26 16:01:31+03:30</td>\n",
       "      <td>GET</td>\n",
       "      <td>/image/1/brand</td>\n",
       "      <td>200</td>\n",
       "      <td>3924</td>\n",
       "      <td>https://www.zanbil.ir/m/filter/p62%2Cstexists</td>\n",
       "      <td>Mozilla/5.0 (iPhone; CPU iPhone OS 12_1_2 like...</td>\n",
       "    </tr>\n",
       "    <tr>\n",
       "      <th>10364864</th>\n",
       "      <td>65.49.68.192</td>\n",
       "      <td>2019-01-26 16:01:31+03:30</td>\n",
       "      <td>GET</td>\n",
       "      <td>/image/56698/productModel/150x150</td>\n",
       "      <td>200</td>\n",
       "      <td>3570</td>\n",
       "      <td>https://www.zanbil.ir/browse/audio-and-video-e...</td>\n",
       "      <td>Mozilla/5.0 (Windows NT 10.0; Win64; x64; rv:6...</td>\n",
       "    </tr>\n",
       "  </tbody>\n",
       "</table>\n",
       "<p>10364865 rows × 8 columns</p>\n",
       "</div>"
      ],
      "text/plain": [
       "                  client                  datetime method  \\\n",
       "0          37.152.163.59 2019-01-22 12:38:27+03:30    GET   \n",
       "1          37.152.163.59 2019-01-22 12:38:27+03:30    GET   \n",
       "2            85.9.73.119 2019-01-22 12:38:27+03:30    GET   \n",
       "3          37.152.163.59 2019-01-22 12:38:27+03:30    GET   \n",
       "4            85.9.73.119 2019-01-22 12:38:27+03:30    GET   \n",
       "...                  ...                       ...    ...   \n",
       "10364860  86.104.110.254 2019-01-26 16:01:31+03:30    GET   \n",
       "10364861   5.125.254.169 2019-01-26 16:01:31+03:30    GET   \n",
       "10364862    65.49.68.192 2019-01-26 16:01:31+03:30    GET   \n",
       "10364863   5.125.254.169 2019-01-26 16:01:31+03:30    GET   \n",
       "10364864    65.49.68.192 2019-01-26 16:01:31+03:30    GET   \n",
       "\n",
       "                                                    request  status  size  \\\n",
       "0         /image/29314?name=%D8%AF%DB%8C%D8%A8%D8%A7-7.j...     200  1105   \n",
       "1                          /static/images/zanbil-kharid.png     200   358   \n",
       "2                                   /static/images/next.png     200  3045   \n",
       "3         /image/29314?name=%D8%AF%DB%8C%D8%A8%D8%A7-4.j...     200  1457   \n",
       "4                                /static/images/checked.png     200  1083   \n",
       "...                                                     ...     ...   ...   \n",
       "10364860                                     /settings/logo     200  4120   \n",
       "10364861                                     /image/5/brand     200  2171   \n",
       "10364862                  /image/64646/productModel/150x150     200  5318   \n",
       "10364863                                     /image/1/brand     200  3924   \n",
       "10364864                  /image/56698/productModel/150x150     200  3570   \n",
       "\n",
       "                                                    referer  \\\n",
       "0         https://www.zanbil.ir/product/29314/%DA%A9%D8%...   \n",
       "1         https://www.zanbil.ir/product/29314/%DA%A9%D8%...   \n",
       "2         https://znbl.ir/static/bundle-bundle_site_head...   \n",
       "3         https://www.zanbil.ir/product/29314/%DA%A9%D8%...   \n",
       "4         https://znbl.ir/static/bundle-bundle_site_head...   \n",
       "...                                                     ...   \n",
       "10364860  https://www.zanbil.ir/m/browse/tv/%D8%AA%D9%84...   \n",
       "10364861      https://www.zanbil.ir/m/filter/p62%2Cstexists   \n",
       "10364862  https://www.zanbil.ir/browse/audio-and-video-e...   \n",
       "10364863      https://www.zanbil.ir/m/filter/p62%2Cstexists   \n",
       "10364864  https://www.zanbil.ir/browse/audio-and-video-e...   \n",
       "\n",
       "                                                 user_agent  \n",
       "0         Mozilla/5.0 (Windows NT 6.1; WOW64; Trident/7....  \n",
       "1         Mozilla/5.0 (Windows NT 6.1; WOW64; Trident/7....  \n",
       "2         Mozilla/5.0 (Windows NT 6.1; Win64; x64) Apple...  \n",
       "3         Mozilla/5.0 (Windows NT 6.1; WOW64; Trident/7....  \n",
       "4         Mozilla/5.0 (Windows NT 6.1; Win64; x64) Apple...  \n",
       "...                                                     ...  \n",
       "10364860  Mozilla/5.0 (iPhone; CPU iPhone OS 12_1 like M...  \n",
       "10364861  Mozilla/5.0 (iPhone; CPU iPhone OS 12_1_2 like...  \n",
       "10364862  Mozilla/5.0 (Windows NT 10.0; Win64; x64; rv:6...  \n",
       "10364863  Mozilla/5.0 (iPhone; CPU iPhone OS 12_1_2 like...  \n",
       "10364864  Mozilla/5.0 (Windows NT 10.0; Win64; x64; rv:6...  \n",
       "\n",
       "[10364865 rows x 8 columns]"
      ]
     },
     "execution_count": 32,
     "metadata": {},
     "output_type": "execute_result"
    }
   ],
   "source": [
    "logs_df"
   ]
  },
  {
   "cell_type": "code",
   "execution_count": null,
   "id": "c6c3e7be",
   "metadata": {},
   "outputs": [],
   "source": []
  }
 ],
 "metadata": {
  "kernelspec": {
   "display_name": "Python 3 (ipykernel)",
   "language": "python",
   "name": "python3"
  },
  "language_info": {
   "codemirror_mode": {
    "name": "ipython",
    "version": 3
   },
   "file_extension": ".py",
   "mimetype": "text/x-python",
   "name": "python",
   "nbconvert_exporter": "python",
   "pygments_lexer": "ipython3",
   "version": "3.9.12"
  }
 },
 "nbformat": 4,
 "nbformat_minor": 5
}
